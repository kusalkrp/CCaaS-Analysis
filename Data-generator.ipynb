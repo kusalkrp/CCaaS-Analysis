{
 "cells": [
  {
   "cell_type": "code",
   "execution_count": 11,
   "id": "8c53e08a-8b91-4ee1-9548-bd429ec3cb67",
   "metadata": {
    "tags": []
   },
   "outputs": [
    {
     "name": "stdout",
     "output_type": "stream",
     "text": [
      "        Date Site_ID  Latitude  Longitude  CO2_Captured_Tons  \\\n",
      "0 2022-01-01  Site_2   43.1288   143.8017             426.59   \n",
      "1 2022-01-02  Site_1   26.4692   -89.5440                NaN   \n",
      "2 2022-01-02  Site_1   73.7448   -11.1432             336.30   \n",
      "3 2022-01-06  Site_1  -75.6948   114.4794             339.17   \n",
      "4 2022-01-10  Site_4    0.5064    42.2252             219.77   \n",
      "\n",
      "   Operational_Costs  Energy_Consumption  Revenue_CO2_Sales  \\\n",
      "0            2054.49             4660.83            1250.99   \n",
      "1            3782.28             3793.76                NaN   \n",
      "2                NaN             6523.91            1964.15   \n",
      "3            2443.79             2966.91            1467.44   \n",
      "4                NaN             6126.73            1159.69   \n",
      "\n",
      "   Revenue_Carbon_Credits  Plant_Uptime_Percentage  \\\n",
      "0                  822.70                    87.51   \n",
      "1                  618.78                    89.09   \n",
      "2                  786.42                    85.25   \n",
      "3                  335.44                    81.95   \n",
      "4                  621.52                    85.22   \n",
      "\n",
      "   Customer_Satisfaction_Score  \n",
      "0                            5  \n",
      "1                            6  \n",
      "2                            7  \n",
      "3                           10  \n",
      "4                            7  \n"
     ]
    }
   ],
   "source": [
    "import pandas as pd\n",
    "import numpy as np\n",
    "import random\n",
    "from datetime import datetime, timedelta\n",
    "\n",
    "# Generate random dates between 2022-01-01 and 2024-12-31\n",
    "start_date = datetime(2022, 1, 1)\n",
    "end_date = datetime(2024, 12, 31)\n",
    "\n",
    "date_list = [start_date + timedelta(days=random.randint(0, (end_date - start_date).days)) for _ in range(500)]\n",
    "\n",
    "# Generate random Site_IDs\n",
    "site_ids = [f\"Site_{random.randint(1, 4)}\" for _ in range(500)]\n",
    "\n",
    "# Generate random CO2_Captured_Tons between 100 and 500 tons\n",
    "co2_captured = [round(random.uniform(100, 500), 2) for _ in range(500)]\n",
    "\n",
    "# Generate random Operational_Costs between 800 and 4500 USD\n",
    "operational_costs = [round(random.uniform(800, 4500), 2) for _ in range(500)]\n",
    "\n",
    "# Generate random Energy_Consumption between 2000 and 10000 kWh\n",
    "energy_consumption = [round(random.uniform(2000, 10000), 2) for _ in range(500)]\n",
    "\n",
    "# Generate random Revenue_CO2_Sales between 600 and 2500 USD\n",
    "revenue_co2_sales = [round(random.uniform(600, 2500), 2) for _ in range(500)]\n",
    "\n",
    "# Generate random Revenue_Carbon_Credits between 250 and 1000 USD\n",
    "revenue_carbon_credits = [round(random.uniform(250, 1000), 2) for _ in range(500)]\n",
    "\n",
    "# Generate random Plant_Uptime_Percentage between 80 and 100%\n",
    "plant_uptime = [round(random.uniform(80, 100), 2) for _ in range(500)]\n",
    "\n",
    "# Generate random Customer_Satisfaction_Score between 1 and 10\n",
    "customer_satisfaction = [random.randint(1, 10) for _ in range(500)]\n",
    "\n",
    "# Generate random latitude and longitude coordinates for each Site_ID\n",
    "# Latitude ranges from -90 to 90\n",
    "# Longitude ranges from -180 to 180\n",
    "latitudes = [round(random.uniform(-90, 90), 4) for _ in range(500)]\n",
    "longitudes = [round(random.uniform(-180, 180), 4) for _ in range(500)]\n",
    "\n",
    "# Create DataFrame\n",
    "df = pd.DataFrame({\n",
    "    'Date': date_list,\n",
    "    'Site_ID': site_ids,\n",
    "    'Latitude': latitudes,\n",
    "    'Longitude': longitudes,\n",
    "    'CO2_Captured_Tons': co2_captured,\n",
    "    'Operational_Costs': operational_costs,\n",
    "    'Energy_Consumption': energy_consumption,\n",
    "    'Revenue_CO2_Sales': revenue_co2_sales,\n",
    "    'Revenue_Carbon_Credits': revenue_carbon_credits,\n",
    "    'Plant_Uptime_Percentage': plant_uptime,\n",
    "    'Customer_Satisfaction_Score': customer_satisfaction\n",
    "})\n",
    "\n",
    "# Introduce missing values randomly\n",
    "for col in ['CO2_Captured_Tons', 'Operational_Costs', 'Energy_Consumption', 'Revenue_CO2_Sales', 'Revenue_Carbon_Credits', 'Plant_Uptime_Percentage']:\n",
    "    indices = random.sample(range(500), 50)  # Select 50 random indices\n",
    "    df.loc[indices, col] = np.nan\n",
    "\n",
    "# Sort DataFrame by Date and Site_ID\n",
    "df.sort_values(by=['Date', 'Site_ID'], inplace=True)\n",
    "df.reset_index(drop=True, inplace=True)\n",
    "\n",
    "# Display first few rows of the DataFrame\n",
    "print(df.head())\n"
   ]
  },
  {
   "cell_type": "code",
   "execution_count": 12,
   "id": "18703bc3-4c4a-4cb7-b2b2-cdbe2b5677ff",
   "metadata": {
    "tags": []
   },
   "outputs": [
    {
     "name": "stdout",
     "output_type": "stream",
     "text": [
      "Dataset exported successfully!\n"
     ]
    }
   ],
   "source": [
    "# Export the DataFrame to a CSV file\n",
    "df.to_csv('new_multi_site_factory_ccaaS_data.csv', index=False)\n",
    "\n",
    "print(\"Dataset exported successfully!\")\n"
   ]
  },
  {
   "cell_type": "code",
   "execution_count": null,
   "id": "3bcea5fe-6545-424b-b77d-524ccb2ebcca",
   "metadata": {},
   "outputs": [],
   "source": []
  }
 ],
 "metadata": {
  "kernelspec": {
   "display_name": "Python 3 (ipykernel)",
   "language": "python",
   "name": "python3"
  },
  "language_info": {
   "codemirror_mode": {
    "name": "ipython",
    "version": 3
   },
   "file_extension": ".py",
   "mimetype": "text/x-python",
   "name": "python",
   "nbconvert_exporter": "python",
   "pygments_lexer": "ipython3",
   "version": "3.12.3"
  }
 },
 "nbformat": 4,
 "nbformat_minor": 5
}
